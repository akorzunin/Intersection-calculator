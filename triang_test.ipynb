{
    "cells": [
        {
            "cell_type": "code",
            "execution_count": 4,
            "source": [
                "# !pip install numpy\r\n",
                "\r\n",
                "import numpy as np\r\n",
                "\r\n",
                "from triang_calc import TriangCalcClass\r\n",
                "t = TriangCalcClass()"
            ],
            "outputs": [],
            "metadata": {}
        },
        {
            "cell_type": "code",
            "execution_count": 5,
            "source": [
                "\r\n",
                "t.calculate(383, -1373, 385, -1385, 578, -2016, 574, -2026)\r\n",
                "# or like ths\r\n",
                "t.calculate(x1=380, y1=-1373, x2=385, y2=-1385, x3=587, y3=-2016, x4=574, y4=-2026)\r\n",
                "\r\n",
                "t.update_second(578+1, -2016+1, 574+1, -2026+1)\r\n",
                "\r\n",
                "t.update_second(x3=578+108, y3=-2016+1, x4=574+1, y4=-2026-1)\r\n",
                "\r\n",
                "t.update(x1=0.1, y1=-1000000, x2=0, y2=0)\r\n",
                "\r\n",
                "t"
            ],
            "outputs": [
                {
                    "output_type": "stream",
                    "name": "stdout",
                    "text": [
                        "Px: 516.0, Py: -2171.0\n",
                        "Px: 633.0, Py: -1981.0\n",
                        "Px: 613.0, Py: -1931.0\n",
                        "Px: 649.0, Py: -2019.0\n",
                        "Px: 0.0, Py: -2089.0\n"
                    ]
                },
                {
                    "output_type": "execute_result",
                    "data": {
                        "text/plain": [
                            "<triang_calc.TriangCalcClass at 0x255cd218ca0>"
                        ]
                    },
                    "metadata": {},
                    "execution_count": 5
                }
            ],
            "metadata": {}
        }
    ],
    "metadata": {
        "orig_nbformat": 4,
        "language_info": {
            "name": "python",
            "version": "3.9.7",
            "mimetype": "text/x-python",
            "codemirror_mode": {
                "name": "ipython",
                "version": 3
            },
            "pygments_lexer": "ipython3",
            "nbconvert_exporter": "python",
            "file_extension": ".py"
        },
        "kernelspec": {
            "name": "python3",
            "display_name": "Python 3.9.7 64-bit (windows store)"
        },
        "interpreter": {
            "hash": "698d50f44e43cc33e445a1debb6fc81ef4fb9e5b15bde08caf42bd17af266677"
        }
    },
    "nbformat": 4,
    "nbformat_minor": 2
}