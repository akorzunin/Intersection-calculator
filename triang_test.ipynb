{
    "cells": [
        {
            "cell_type": "code",
            "execution_count": 94,
            "source": [
                "# !pip install numpy\r\n",
                "\r\n",
                "import numpy as np\r\n",
                "\r\n"
            ],
            "outputs": [],
            "metadata": {}
        },
        {
            "cell_type": "code",
            "execution_count": 95,
            "source": [
                "class TriangCalcClass(object):\r\n",
                "    \"\"\"Calculate x and y coords of intersection of two lines defined by 2 points each\"\"\"\r\n",
                "    init_coords = {\r\n",
                "        'x1': None,\r\n",
                "        'y1': None,\r\n",
                "        'x2': None,\r\n",
                "        'y2': None,\r\n",
                "        'x3': None,\r\n",
                "        'y3': None,\r\n",
                "        'x4': None,\r\n",
                "        'y4': None,\r\n",
                "    }\r\n",
                "    px = None\r\n",
                "    py = None\r\n",
                "    rnd = 0\r\n",
                "    def __init__(self, *args, **kwargs):\r\n",
                "        super(TriangCalcClass, self).__init__()\r\n",
                "\r\n",
                "    def args_unpack(self, *args):\r\n",
                "        for num, k in enumerate(self.init_coords):\r\n",
                "            self.init_coords[k] = args[num]\r\n",
                "\r\n",
                "    # thats awkward\r\n",
                "    def kwargs_unpack(self, **kwargs):\r\n",
                "        self.init_coords = kwargs\r\n",
                "\r\n",
                "\r\n",
                "    \r\n",
                "    def solve(self, ):\r\n",
                "        try:\r\n",
                "            a1 = (\r\n",
                "                [self.init_coords['x1'], self.init_coords['y1']],\r\n",
                "                [self.init_coords['x2'], self.init_coords['y2']]\r\n",
                "            )\r\n",
                "            a2 = (\r\n",
                "                [self.init_coords['x1'], 1],\r\n",
                "                [self.init_coords['x2'], 1]\r\n",
                "            )\r\n",
                "            a3 = (\r\n",
                "                [self.init_coords['x3'], self.init_coords['y3']],\r\n",
                "                [self.init_coords['x4'], self.init_coords['y4']]\r\n",
                "            )\r\n",
                "            a4 = (\r\n",
                "                [self.init_coords['x3'], 1],\r\n",
                "                [self.init_coords['x4'], 1]\r\n",
                "            )\r\n",
                "            b1 = a2\r\n",
                "            b2 = (\r\n",
                "                [self.init_coords['y1'], 1],\r\n",
                "                [self.init_coords['y2'], 1]\r\n",
                "            )\r\n",
                "            b3 = a4\r\n",
                "            b4 = (\r\n",
                "                [self.init_coords['y3'], 1],\r\n",
                "                [self.init_coords['y4'], 1]\r\n",
                "            )\r\n",
                "            px_over = (\r\n",
                "                [np.linalg.det(a1), np.linalg.det(a2)],\r\n",
                "                [np.linalg.det(a3), np.linalg.det(a4)]\r\n",
                "            )\r\n",
                "            py_over = (\r\n",
                "                [np.linalg.det(a1), np.linalg.det(b2)],\r\n",
                "                [np.linalg.det(a3), np.linalg.det(b4)]        \r\n",
                "            )\r\n",
                "            p_under = (\r\n",
                "                [np.linalg.det(b1), np.linalg.det(b2)],\r\n",
                "                [np.linalg.det(b3), np.linalg.det(b4)] \r\n",
                "            )\r\n",
                "            self.px = np.linalg.det(px_over) / np.linalg.det(p_under)\r\n",
                "            self.py = np.linalg.det(py_over) / np.linalg.det(p_under)\r\n",
                "        except[]:\r\n",
                "            print(\"Solution not converge\")\r\n",
                "        return self.px, self.py\r\n",
                "\r\n",
                "    def calculate(self, *args, **kwargs):\r\n",
                "        if (not args) == False: self.args_unpack(*args)\r\n",
                "        if (not kwargs) == False: self.kwargs_unpack(**kwargs)\r\n",
                "        self.solve()\r\n",
                "        self.print_coord(self.px, self.py)\r\n",
                "\r\n",
                "    def update_first(self, *args, **kwargs):\r\n",
                "        if (not kwargs) == False: self.init_coords.update(**kwargs)\r\n",
                "        if (not args) == False: \r\n",
                "            self.init_coords['x1'] = args[0]\r\n",
                "            self.init_coords['y1'] = args[1]\r\n",
                "            self.init_coords['x2'] = args[2]\r\n",
                "            self.init_coords['y2'] = args[3]\r\n",
                "        \r\n",
                "        self.solve()\r\n",
                "        self.print_coord(self.px, self.py)\r\n",
                "\r\n",
                "    def update_second(self, *args, **kwargs):\r\n",
                "        if (not kwargs) == False: self.init_coords.update(**kwargs)\r\n",
                "        if (not args) == False: \r\n",
                "            self.init_coords['x3'] = args[0]\r\n",
                "            self.init_coords['y3'] = args[1]\r\n",
                "            self.init_coords['x4'] = args[2]\r\n",
                "            self.init_coords['y4'] = args[3]\r\n",
                "\r\n",
                "        self.solve()\r\n",
                "        self.print_coord(self.px, self.py)\r\n",
                "\r\n",
                "    def update(self, **kwargs):\r\n",
                "        self.init_coords.update(**kwargs)\r\n",
                "        self.solve()\r\n",
                "        self.print_coord(self.px, self.py)\r\n",
                "\r\n",
                "\r\n",
                "    def print_coord(self, px, py):\r\n",
                "        print(f'Px: {round(self.px, self.rnd)}, Py: {round(self.py, self.rnd)}')\r\n",
                "        "
            ],
            "outputs": [],
            "metadata": {}
        },
        {
            "cell_type": "code",
            "execution_count": 110,
            "source": [
                "t = TriangCalcClass()\r\n",
                "t.calculate(383, -1373, 385, -1385, 578, -2016, 574, -2026)\r\n",
                "# or like ths\r\n",
                "t.calculate(x1=380, y1=-1373, x2=385, y2=-1385, x3=587, y3=-2016, x4=574, y4=-2026)\r\n",
                "\r\n",
                "t.update_second(578+1, -2016+1, 574+1, -2026+1)\r\n",
                "\r\n",
                "t.update_second(x3=578+8, y3=-2016+1, x4=574+1, y4=-2026-1)\r\n",
                "\r\n",
                "t.update(x1=0.1, y1=-1000000, x2=0, y2=0)\r\n",
                "t\r\n"
            ],
            "outputs": [
                {
                    "output_type": "stream",
                    "name": "stdout",
                    "text": [
                        "Px: 516.0, Py: -2171.0\n",
                        "Px: 633.0, Py: -1981.0\n",
                        "Px: 613.0, Py: -1931.0\n",
                        "Px: 628.0, Py: -1969.0\n",
                        "Px: 0.0, Py: -2654.0\n"
                    ]
                },
                {
                    "output_type": "execute_result",
                    "data": {
                        "text/plain": [
                            "<__main__.TriangCalcClass at 0x234ea187190>"
                        ]
                    },
                    "metadata": {},
                    "execution_count": 110
                }
            ],
            "metadata": {}
        },
        {
            "cell_type": "code",
            "execution_count": 97,
            "source": [
                "a = ([1, 2], [3, 4])\r\n",
                "np.linalg.det(a)\r\n",
                "pepe = []\r\n",
                "kpepe = {}\r\n",
                "(not pepe) == False"
            ],
            "outputs": [
                {
                    "output_type": "execute_result",
                    "data": {
                        "text/plain": [
                            "False"
                        ]
                    },
                    "metadata": {},
                    "execution_count": 97
                }
            ],
            "metadata": {}
        },
        {
            "cell_type": "code",
            "execution_count": 6,
            "source": [
                "ls =[1,2,3]\r\n",
                "type(ls) == type([])\r\n",
                "isinstance(ls, list)"
            ],
            "outputs": [
                {
                    "output_type": "execute_result",
                    "data": {
                        "text/plain": [
                            "True"
                        ]
                    },
                    "metadata": {},
                    "execution_count": 6
                }
            ],
            "metadata": {}
        }
    ],
    "metadata": {
        "orig_nbformat": 4,
        "language_info": {
            "name": "python",
            "version": "3.9.6",
            "mimetype": "text/x-python",
            "codemirror_mode": {
                "name": "ipython",
                "version": 3
            },
            "pygments_lexer": "ipython3",
            "nbconvert_exporter": "python",
            "file_extension": ".py"
        },
        "kernelspec": {
            "name": "python3",
            "display_name": "Python 3.9.6 64-bit (windows store)"
        },
        "interpreter": {
            "hash": "698d50f44e43cc33e445a1debb6fc81ef4fb9e5b15bde08caf42bd17af266677"
        }
    },
    "nbformat": 4,
    "nbformat_minor": 2
}